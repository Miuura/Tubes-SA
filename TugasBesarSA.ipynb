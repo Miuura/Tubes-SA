{
  "cells": [
    {
      "cell_type": "markdown",
      "metadata": {
        "id": "GsBahKsgARBe"
      },
      "source": [
        "# Regular Expression Matching\n",
        "Given an input string s and a pattern p, implement regular expression matching with support for '.' and '*' where:\n",
        "\n",
        "- '.' Matches any single character.​​​​\n",
        "- '*' Matches zero or more of the preceding element.\n",
        "\n",
        "The matching should cover the entire input string (not partial).\n",
        "\n",
        "**Example 1:**\n",
        "\n",
        "- Input: s = \"aa\", p = \"a\"\n",
        "- Output: false\n",
        "- Explanation: \"a\" does not match the entire string \"aa\".\n",
        "\n",
        "**Example 2:**\n",
        "\n",
        "- Input: s = \"aa\", p = \"a*\"\n",
        "- Output: true\n",
        "- Explanation: '*' means zero or more of the preceding element, 'a'. Therefore, repeating 'a' once, it becomes \"aa\".\n",
        "\n",
        "**Example 3:**\n",
        "\n",
        "- Input: s = \"ab\", p = \".*\"\n",
        "- Output: true\n",
        "- Explanation: \".*\" means \"zero or more (*) of any character (.)\".\n",
        "\n",
        "\n",
        "\n"
      ]
    },
    {
      "cell_type": "code",
      "execution_count": 1,
      "metadata": {},
      "outputs": [
        {
          "name": "stdout",
          "output_type": "stream",
          "text": [
            "Collecting rstrNote: you may need to restart the kernel to use updated packages.\n",
            "\n",
            "  Downloading rstr-3.2.2-py3-none-any.whl.metadata (7.1 kB)\n",
            "Downloading rstr-3.2.2-py3-none-any.whl (10 kB)\n",
            "Installing collected packages: rstr\n",
            "Successfully installed rstr-3.2.2\n"
          ]
        }
      ],
      "source": [
        "pip install rstr"
      ]
    },
    {
      "cell_type": "code",
      "execution_count": 47,
      "metadata": {},
      "outputs": [],
      "source": [
        "import rstr\n",
        "import pandas as pd\n",
        "import time\n",
        "import matplotlib.pyplot as plt"
      ]
    },
    {
      "cell_type": "code",
      "execution_count": 2,
      "metadata": {
        "id": "YYq-abKSR0-k"
      },
      "outputs": [],
      "source": [
        "def isMatchDP(s, p):\n",
        "  # Inisialisasi matrix DP\n",
        "  dp = [[False] * (len(p) + 1) for _ in range(len(s) + 1)]\n",
        "\n",
        "  # Kasus ketika kedua string kosong, pasti cocok\n",
        "  dp[0][0] = True\n",
        "\n",
        "  # Kasus ketika pola kosong, pasti tidak cocok\n",
        "  for i in range(1, len(p) + 1):\n",
        "    if p[i - 1] == '*':\n",
        "      dp[0][i] = dp[0][i - 2]\n",
        "  \n",
        "  for i in range(1, len(s) + 1):\n",
        "    for j in range(1, len(p) + 1):\n",
        "      if p[j - 1] == '.' or p[j - 1] == s[i - 1]:\n",
        "        dp[i][j] = dp[i - 1][j - 1]\n",
        "      elif p[j - 1] == '*':\n",
        "        ignore_star = dp[i][j - 2]\n",
        "        match_star = dp[i - 1][j] and (s[i - 1] == p[j - 2] or p[j - 2] == '.')\n",
        "        dp[i][j] = ignore_star or match_star\n",
        "  \n",
        "  return dp[len(s)][len(p)]"
      ]
    },
    {
      "cell_type": "code",
      "execution_count": 3,
      "metadata": {
        "id": "HUn0tXUMz3Ip"
      },
      "outputs": [],
      "source": [
        "def isMatchBacktracking(s, p):\n",
        "    def backtrack(i, j):\n",
        "        if j == len(p):\n",
        "            return i == len(s)\n",
        "        next_char_is_star = (j + 1 < len(p) and p[j + 1] == '*')\n",
        "        if next_char_is_star:\n",
        "            if backtrack(i, j + 2):\n",
        "                return True\n",
        "            while i < len(s) and (s[i] == p[j] or p[j] == '.'):\n",
        "                i += 1\n",
        "                if backtrack(i, j + 2):\n",
        "                    return True\n",
        "        else:\n",
        "            if i < len(s) and (s[i] == p[j] or p[j] == '.'):\n",
        "                return backtrack(i + 1, j + 1)\n",
        "        return False\n",
        "    return backtrack(0, 0)"
      ]
    },
    {
      "cell_type": "code",
      "execution_count": 43,
      "metadata": {
        "colab": {
          "base_uri": "https://localhost:8080/"
        },
        "id": "Y9nbexbvpYuS",
        "outputId": "0ebcb63a-a662-4af3-a8f1-3059088e2b01"
      },
      "outputs": [],
      "source": [
        "pattern = input(\"Masukkan pattern anda: \")\n",
        "\n",
        "listAlp = []\n",
        "for char in pattern:\n",
        "  if '.' == char or '*' == char:\n",
        "    continue\n",
        "  if char not in listAlp:\n",
        "    listAlp.append(char)\n",
        "result = ''.join(listAlp)\n",
        "\n",
        "listLength = [10, 20, 40, 80, 160, 320, 640, 1280, 2560, 5120, 10240]\n",
        "listString = []\n",
        "\n",
        "for panjang in listLength:\n",
        "  listString.append(rstr.rstr(result, panjang))"
      ]
    },
    {
      "cell_type": "code",
      "execution_count": 44,
      "metadata": {
        "colab": {
          "base_uri": "https://localhost:8080/"
        },
        "id": "prUlInTwpw3j",
        "outputId": "06139c07-3e0f-4498-dbda-6b7e515751a0"
      },
      "outputs": [
        {
          "data": {
            "text/plain": [
              "['babbbabbba',\n",
              " 'abbbbbbaabbaaabbbbbb',\n",
              " 'abbabbbbbaaaabaabbbbaabaabbbbbabaaaaabaa',\n",
              " 'baaaababbbaabbabbabbabbabbbbbbaaabaaabbbaaaaaababbbabbbabbbbbbaaabbbbaaaaabbbbba',\n",
              " 'baaaabbbbaaabbababaabaaaaabbbbbaabbaabbbabbaaababaaabbaaababbbbbaabbabbabbbbabbbbbbbabaaabbbabaabaabbbbaaabababbaaabbababaaaaaabbbabaaaababbababbaaaabaaaaabbaab',\n",
              " 'abbbaabababbbbbbbbaaabaabbbabbbbbbaabbaabbbaabbabbbbaabbaaababaababbaabbabbabaabbbbaabbbbbaaaabbbabaaaababbababbbbaababbaaaabbbaaaaabbabababaabbaabbbaabbaaaabaaabaababbababaaabbbbabaabbbabaabbabaabbbbaabbbaabaabbbbbababbbaabbbabaaaaaabaabaaaabbbbabababaaaabbaaaaaaaaabababababbababababbbabbaaaaabbbabbabbaaababbabababbaa',\n",
              " 'aaaabaaabbbbbababbaabaaabbbbbabaabbbabbbbaabbbbaaaabaaababbbabbaababaaabbaabbbabaabbabbbbaabaabbaaabababbaabaabbababaabbaaaaaaababbbbabbababbbabbabaaabaaabbabbbbabaabbababbbaaabbbabbbaaabbbbabbabbbbabaaaaabbbbbababaaaabbbbbbaabaaaabbaaaabbaabbabbaaabbbabaaaaabaaaaaaabababababbbbabaaaaaabbbaaaaaaaaababaabbabbaabbbaaaaaaabbbbaaaabaababbaaabaabaaababaabaabababbbababbbabaaaaaabbabbaaabaaaabababaabbbaabbbbbbabaaababaabbaabbabbababababbabbabaabbbbbaabbaabaaabaababbaaaabbbabbabaabbbbaabbabbbbbaaabaabbbbaaabaaaabbbbabbbbabbbbaabbaaaababaaaababaaaaabbaababbbbbababababbaaaaaaaaabbabbbbaabababbbbbbbaaabaabaabbaaabbbabbbbaaabbaabaaaabaababbbabb',\n",
              " 'abaababbaababaaabaabbaabbbabbbbabbbbbabbbababaabbbbabbabababbbbbbbbbbabbbaabaabbbabaaabbaababbabbaabbaabbbbaababbaaaabbaaaabbabbbbaababaababaabababababaabbbbaaabababbbaabbbbbbbbaaababababababbaaabaaababbaaabbbabbbbabbaaabaabbababbbabababaababbaabaabbbabbbaabaaaaaaaabbbaabbbabaaaababbbabbaabaaaababbabbabaabbbaabbaabaabbaaabbaaaaabbabbababbbabaaabbaabbabbbbabbaabbabaabbabaabbabaaaabbbaabaaabbaababbabbabbaaabbabababbbaaaaabbbababbbabaaabababaabbbbbbaaaabbababbbabababbbbbbbaabbaabbabbbabaaabbabbaaababababaabaaabaabbbbabaabbbbaabbbbbbaabaaababaaaabbbbbabbbaabaabbbbbbbbbabbbaaabbbbaaabbbabbbbaabaaabaababaaabaaaababbabbabababaabbaaababbabbbabbababbaaabbabbbbaaabbbbbaabbabbbaaaabbbbabaababbabaaabbabbbbbbbbaabbabbaaaaababbaabaabaaaabbbaabbbbbbbbbabbbabaaaabbaabbbbbbbbbaaababbaaabbbbabbabaaaaaaaaabbaabbaababbaabbbaaabaababbbbbabaaaabaabbbbabbabbabbabababaabaaaabaababaaabbbbbbbbbaababaabbbabbbaaaaaabbaabbbabbbbbaababaaabaababababaabaabaaaabaabaaaababaababbbbbbabbbbabbbbaaaaaaabbaaabbbbbbaaaaaaaaaabaabaabababbaabbbaababbababbbaaabbababaabaabaababbabababbaaaabbbaaaabaabbaaababbaabbaabbaaaababbbbaaabbbbaaaabbbbabbbabaabbbbaaaabaabbababaaaaaabbbabbbabbbaaababbabbaaaabaaabbabaaabbbbabaababaabbabbbaabaabbababbbbababbbbabbabbabababbaabaaababbbbbbabaabbbbaababaabaaaabbbabbbabbaa',\n",
              " 'babaaaaabbbbaaababbbaaabbbabababababbbabaabababbbbaaabbbababaababaaaaaabbaabbbbabaababbbbabbbaabbbbbbbabbbaaabaabaabbaabbbababbaaababbbbbbbbaaaaabaaaababaaababaaaabaaaaaaabbaabaababbaaababaababbaabbbbbbabaabaaabbbabaaaabababbaaabbabbbaababababbabbbaabbbbbbbaaabbbbbaabbabbaaabbababaaaabbabbbbaabaabbbbbbbbabaaabaaaaaabbbbabaabaaaaabbabaaaabbbaababababbabbabbaababbabaabaaaababaaabbaabbababaabbabbbabbbbbbbbbabaaabbaabbabbbbbaaabbaaabbaaabaaababaaaaaabbabbbaababababbbbbabaabbabaababbbabbbaabaabbaabbbababbabbaaaaaabbabbbaabababbbaaaabaabaaabaababbbababababaabbbbbaaabbbbbbbabbabaaababaaabaaaaabbbbbaaaabbaabbaaaabbbababbbaaabbabaababaabbbbbbabbbaabbaabbbaabbbbbbaababbbababbaabaaaababaabbbaaabbaabbbbbabaaaabaabaabababaaaabbaabbbaaaabbababababbbabbabaaabbababaaabbaababababbbaaaabbbaaabbbabaaaaabbabaaaababaabbbbababaaabbbbbaaaaabbababbaabbabbaaababbaaababababaabaabaaababbaababaaabaababbabbbabbbabbaaaabaaaaabbbabbabaaabbaaabaaaabbaabbabbbabaabaaababaabbababaababbaaabbaaabbbaaabababbbbbbbabbabbbaabaababbbbbbbbabbbbabbabbbbbbbbababbbbaababbbabaaabbbbaabbbaabbbaabbaaaabbbaabbbbaabaabbabbbbbaaabbbabaabaabaaaabaabbbabababbbbbaabababaaaaaaabbaababbaabbaabbabbbaabababbaabbbbbaabbbbabaaabbaabbbaabbabaabaabbbaababbbbbbbabbaabbabbbabbaababbabaaaabbbbabaabbaaaababaabbaaaababaaaaaaaababbbbbbbaaaabbabbabbbabbabbbababbbaabaabbababbaaabbbbbbaabbaaabbbbaaababaabbaabbbaaaaabaabaaaaaaabbaaababaaabbbbabbaabbaababbbaababbbbaaabaaabababbbabababaabaabbaaababaabbabbbabbaabbbbbbbabbbaaabbaaabbbbbabaaaabaaaabbbaaababaabbbbbbabbbabaabbbbbbbbbbabaabbabbaaabbbbbbbaaaabbbbbaaaaabaaabbbbbbabaaaababaaabababbbbaababbaababbaabaaabaababbbaabbbbbbaabaabbbabaaabaabbbaabbbbabbbbbbaabaaaabbabaaabbabaabaaaabbbaaabaaaaabaabaabaababaabbababaababbabaaabbaabababbaaabbbbbabbbbbbbaaabaaabaaaaaaababbbbbabaabaabaabbaabaabaaaabaabaaabbbaaaabbaababbbaabaaabbbbaaabaabbabbbaaaabaaaaaaabbabababbaabbbabbbababbbaabaabbbbaababbbbaabaababbaaababaabababaaabbaaaabbbaaaaaaabaababaaabbbaabaabbaabbabababbabaaaabbabaabbaabbaaabbaabbabaabbbababbbaaababbabbababaaababaababaabaabbaabbaabaaabbaabbaabbaaaaaababbabaabaaaabbababbbaaaabbabaababababaaabaaabaabababbaabaaaaababaababaaabbaabbbbaabbbaabbabaabbbbabbaabbbabbbababbbaababaabbabababababababbbaabbbaabaaabababbbbabbaabaaaaabbbaabbbaaabaabbbbabbbbababaabbbbbabbbbbbbbabababbabaabaabbabaabbbbbabbaaabaabababbbbbbabaaaaabbabbbbbbbaababbbabaaababaaababbabbaaaabbaaababbbbbaaaabaabbbbabaababababbababbbaaabaababaaababbaaababababbbaabbbaaabbbabbaaaabbbabbbaabbbaabaaabbbabaaabaaaabababababaabbbbbbbbaaaaaaaaabbbbbabaaaaabbaabaaaabbabbbbbbaabbabaabbbaaaa',\n",
              " 'aaabaabaaabaaaaabbaaaabbabaabbbaabbbabbabbabaabbbbbaaababbbbaabaabaabbabbbbaabbaabbbabbbbabbababaaaaabbbaababaaaabbaaabaababbaabaaaabaabbabaabbbaabbbbabaababaaabbaaaababbbbabbbabbbbbababaabaaaaaaababbaabaaababbbbaabbbbaaababbaabbbbbbaabbbbbbbbabbbbabbbabaaababababbaababbbbaabbbbbbbaaabaabbabaabbaaababbabbaabbaabbbbaaaabbabaabaabaabbbaabbaabbbbaababaaababbbabbbbbabaabaabaabbabbaaabababaaabaabbbbaaababaabbbaabababbbbbbabaaabbabaaabbaababbbaaabaaabaaaaabbbbbbabbbbaabaabbaabbaabaaaabbbaabbaabaaabbbbaaaabaababababbabbbaaabbaaaabbabbbbabbabaaaaaabbababaabababbbbbbbbaabaababaabbbaababaaaababbbaaaabbbabaabaaaabbaaaaaabbabbbaabbbbbbbbabbbbaaabbbababababbabbabbaababbbabbbbabaabbaabbabbaaabbabbbbabbababaabaabbabbbaaababaabaaaaabbbbbbbaaaaabbababbbaabaaabaabbbbbbaabbbbbaababababbabbaababbaaababaaababbaaabaababbbaabaabbabbabbabaabbaababaabaababababbaaaaaabbaaaaaabbaaabbaabaabbabbaaaababbbabbabbbabbbaabbaababbaaaaabaaaaabbbabaaaabbbaabaabbbabbbaaabbbbaaabbbababaabbbbbabbaaababbabbaabbaabbbabbbaaabaabaaaaabbabaaaaabbaaaaaaaaaabbbabababaaaaababbaaabbbaabbabbabbbbabbabaaababbabbbbbbbaaaaaabbababaaaababaaabaabbababbbabbababababababbbbbbbbbbbbaababbababbbabababaaaaabbbabbaaababbaaabbaabaabaabbbaaabababbaababbabbbababbbabababbaaaabbbaaaabbabaaaaabbaabaaabaaaaababbabaababaabababaabbababbbaabbaababbbababaaaaababaaabbaabbababaaaabbbaababbaababbbbbbabbbbabbaaaabbaabaaababbbbaabbabaabaabbbaabbaaaabaabaabbaabbbaaababaabababbbaababbbabababbbabaababbabbbabaabbababbbbabbabbbabbbaabbbbaaabbaaaaaaabaaaaaabaabbabababbbabababbababbbabbababbbbaaaabbbbabbaabaababbbbaabaabababbaabaaabbbaaaaabbaababbbaaaaaaaaabbbbabbaabaaaaabaaaaabbaaabbbaabbbaaaaaabbbbbaaabbbbbaaaaabbbaaaaaaaaabbabbabbaabbababbbaababbbaababbbbaabbaabbbbbbbabaaaaaaababaababbabbabbbbaabbbaaababbbbbaaabbaaaaabaaaabababbbaababbbaabbaababbbaaabbbaabbbaabbbaaabbaabaabaabbaabbaabbabbababbbabbbbaababbabbabaabaabbbabbbbaaabbababaababbbbabbaabaaabbbabaaabaabababbaababbbaaabababababbabbbbabbabbaaabbbbbbabbbabaabbaabaaaabaaaaaaabbbababababbabbabaababbabbaaaaababababbaaaaaaaaababaaaabaaabababaabbbbbabababbbabaabaabbabababaababbbbbbbabbabbaaaaababbabbbabaabaaaaababaabbbbaaaaaaaaabbbabbbbbabbababbaabaabbabaabababaaabbbaaaabbbbaabbbbaabaabbababbbaaaabbbbaaaabbaababaabaaaabbbbaabbabababbaabbbabbbbabaabaababbabbbaabababbbaabbbbbabbbabbbbaabbbaabaaababaaabbabaabbbababbbaabbabaaababababbbaababaaababbaabbbbbaaabbbaaabbbabaabbbbbaabbabbabbaaabbbababbbaaababbabbbaabbaabbbaababbbabbabbabbbaaababababbaaaabbbbbbbaabbaaaababaaaaaaabaaaaaaabbabaaabbaaababaaaaabbaababbaaabbabaaabbbbbaaabbabaabaaabbaaaaabbbbbaabbbaaaaabababaaabaaaaabbbabbabbbbbabaabbabbbbbbbabaabbaabaabbababaabaabaababababbbabaaaaaababbaaabbbabbaabbababbabbabaababaabababbbbabbbbbbabbbbbbabbbbabbbaaabbabbabbbababaababbabbbaabbababbbabbababbabaabbbabbbbbabbabbabaaabaabbbaabbbaabaababbbabaabbaaabbbabbaaabbbbabbabbaabaabbaabbaaabbaabbbbbabaabbbaabbabbbbabbbbaabaabaabbaabaaaaaaababbaabbbbbbababbbbbabaaabbbababbbbbaabbbaabbbaaabaaabaaaaaababbbabbaaababbbbbbbabbaabaaabaaaaaaabaaabababbabbbabbaaaaaabaaaabbabababbbaaaaababaabbababbbbaabbabaababbbabbaabaaaaaaaabaaaabbbaaabaaaabbabbbaabbbaaaaabbbbbaabbaaaabaabaaaaaaabbaababbabbbbbababaaaaaabbabaabbabbabbbbaaaabbabbaabbabbababbabaabaaabaaaaabbaaabbabaaabbbbbbbababbababbbbaaabbaaaabaaaabbabbbbbbbababbbabbbbbbabbababaaaabaabbbaaaabaaabaabaabbaabbbababaaabbbabaabbbbbbaabbabababbbabababbbaabbaabaabaaabaabababaaaababbaaaababaabbbababbabbbaabbabaabaabbaaabbabaaabbbbbaaaaabbbabaaaabbaaaaababbbababababaaabaabaaaaabbabaabbaaaababaaaaaababaabbbabbbabbbbbababbbbabbabaaaabbaabaabaaaabbbbbbbabbbaaabaabbabbaabaaababaaabbbbabbaaaaaabbbabbaaabbabababbbaaababbabbabbbbbbaababaababbaababbbabbabbaaaabaababbbabababbbbabaabbaaaaaaaaabbaaaaabbabaabbbbababaabbaaaaabbaabaaabbababbbbbbababaaabaaababaababbbbbaaaabaaabbbbaaabbbabaaabaaaaabaababbbbbabbaabaaaaaabaaabbaaabbbbabaaaabbbabababaabbbaabbbbbabaabababaaabbbabaaabaaaabaabaaaababaaabbababbaaabaaabbbabbbbaaabababaabaaababaaabbababbbabbabbbaabaaababbabbbaaaababaaababbabababbabbbabaabbabbbbbababaaaabbbbaaaaabbaababbbaababbaababbaabaaaaaaaaabababaabbaabbbabbbaabaababbbaabbbbbbaaaababaababbaabbbbabbaaaaaababbaaaababbabaabbaababaabaaaaabaabaabbaabbaaaaababbaababaabbaaaabaaabbabbababbaaabbbbabbabbbaababbbbbbaaababbbabaababbabaababaabbbababbabaaaababbaabaabaaaaaaabbbabbbabbbbabbbaaababbaaaaabbabbaabaababbaabbaabbbaaababbabaabababababbaaaabaabaaaaabbaabaaabbaaaaaabbbbbbbabaaaaaaabbaaaabaaabaababaaaabbbbbbbbababaaabbabbbaabbbababbbbaaaabbaabbabababaaabaabbbabbabbbababaabbaaabbabbbabaabaaabbaaaaabaababaabaaaaabaabbbbababaaaaaaaaaabbbbbaababbaaababbababbababbaabababaaaabbbbbaaaaaababbbbbabbaaaabbbbbbaaaaabaabbabbbbbbaaaabbabaaabaabaaabaaaabbaababaababaabbaaabaabaaaaaaaaabbbabbabaaaaaabbbbabaaaabbababaaaaaabaaabbbabaaaaababbbabbabbaaaaaaabbbbbaaabbbabbbaabbbbbaabbbbbaaabaaaababaabaaabaabbbabbbaabbbaaabaabaaaaabbbabaaaabbaabbbbaababbabbbbbbbbbaaabbabbbbaaaaaabaaaabbabaabbabbbabbabaababababbabbbabbaabaabaaaaaaaaabababaaaaabbbbbaabbaaaabbbababbbbaaaaabbaabbaabaaabaabaaaababaaaabbbaabaaababaabaaabbaabbabababaabaaababbbabaababbabbabaaabaaabbbaaababbaaaaaaaabbabaaaabbaaabbabbabaabbabbabbbaabababaabbababaaaabb',\n",
              " 'aaaababbaabbbababbababbaaababbababbbbbaababbbaabbbaaabaaabbaabbbaaaaaaabbbaababbababbaaaaaabaabbbbababbbaababbbbbababaaaabaaaaaaaaaaabbbbaabaabbabaaaaaabbbbabbbbaababbabbbabababaabaabbbaaaaabbaaabaababbbbabbbbabaaaabbaabbababbbababbbbbbbbaabbbabaaabbabaabbbbbbabbbaababababaabaaaabaabbabaaaaaababaaabbabababbbaabbbbabbabaaabbbaaabbbbbaababbbaababbaaaabbaabbbaabbbaabbbbbbaababbbaabbbbbbaaaaababaababbbabbaababbababababbbbabbbabaaaaaabaaaaabbaabaabbbabaabaabaaabbbbbbababbbbaabbbbbabbaaaaaaaabbaababaabbababbbaabababbbaabbabaaaabbaabbaabaaaababaabaaaabaabbbabbbbababbabbbbbabbaaabbaabbabbbbaaaabaabbabbabbaaababbaaababaaabbbaabaaaabbaabaabbbabbbbabaaaaabaababbbbaaababbbabaaabbaaababbabbbbbbbabaaabaabbaaaabbbaabbabaabaabbbbababababaaaaabaabbaabbaaabaabbabaaaaaaabbbababbaabbbbabbbabababaaaabaaabbabbabbbbaabababbaaaaabbbaabbabbaaaabbbbbbbbbaabaaabaabbaababbbaaaabaabaababababbaabbaababaaaaaabaabbaabaaabbbbbbbaaabbbbbbbabbbabbbbbbabaabbbbbbbaaaaaaabbbabbabaaaaababaabaabbabbabbaabaaaaabbaaaaabbbaaaaaabbbabaabaaabaabaababaabbabbbbbbbabbbababaaabbbbabbabaaaaabaaaaaabbabaabbbbbabaabbbbbaabbababbaaaabaaaabababbbbbabaabbaaabbababbaabbbaaabababbbaabbabbbaaabbbbaababaabbbbbbaaabaabbabaabaabbbaabaaaababbabaabbbbaabbabbbaaaaaabaabaaaababbabbbaabababaaaabaabbaabbbaaaababbbaaabbaaabaaaabbabbbbbaabbaabababbaababbababaabbabbbbaaabaaaaababbaaaaaabbbaabbbaaaabbabaaaabbbaaabbbbbabbabbbbbbaaaaabbbbbababaabbbbaabbaabaaaaabbaabaaabababbabbbbbbbbaaabababbbbabaabbabbbaaaabbaaababaaaabbbaabbbbbbbbbaaabaaabbbababaaaabaaaabbbbaabbababbbbabbbabaabababbaabbbbbbbbaababaabbbbbaabbbbaaabbbaaabbbabbbaabbbbabaabbbbbbbbababbbbaabaaabbbbabbababaabbaababbbaabaaababbbbbbaababaabaaabbabaabbbaaaabababaaababbbabbbabaabababbaaabbbabbbababbbbababbabbaaabaaaaaabbaaaaabaabaabbaababbaababbabaabbbaabbabaaabbbbabbbabababbbaabbbabaabaaabaabbbaaabaabbbbbbbbbbbabbaaaaaabbbabbbabbbbabbaaaaababbaaabaabbabaaabaabbaabbbaabababaaaabbbaaababbaabbababbbaabaababaabababaaabaaaababbbbaababbaababbabababbbbaaabbababbbabbaabbbbaabbaabbabbaaaabbbbabbabaaaababbababaabaabbbbabbabababbbaabbaaaabababbabbaabbabaaabbbbbabababaabbaabaabbabaabbbbabaaaaaaabbbbaabbababbbbabaaaabbabbbababaabbbbabbabbaababbbabbbbaaaabbaaaababaabbabaaaabaaaaabbabbbaaabaaaaaabaababbbbababbaaabaaabbabbbaabababbabaaaabababababbaaaaabbbbaaaabbbbbbabbbababaaaaabbaaabbababaaaaaabbaabbbaabbbbababaabbbbaaaaaabbbbabaaaabbaaaaabaabbabaababbaaaabaaaababbbbbabbabaaaabbaabaabababbbaaabababbbbabaabaababaaabbbbbaabbbbbbbbabaabababaabbabaabaaabbbabbabbbbabbabbabbbbabbabbaabbbbbaababaaabaabbbaaabbaabababaaabbbbbaaaaaaaaabbbabbbabbaaaabbbbbbaabbbbabaabbbbbbbaabbabbbbbabbababaabbbbbbbaabaaaaabbbbbabaaabbbabbbbabbabababbbbaabbbababbbbbaabaaaabaaababbbababbbbbababaaaaabaaabbabbabaabaabbabaaabbbabbbaaaabbbbbaaabbbbbbabbbbbbbbbaaabbaaaaaaabbababaaabbabbaaabbaaaabbaaaaabbaabbbaabaaaaaabbabaaaaabbabaababbbbbbaabaabaababbbbabbaaababbbbbabbbbabbaababbabbbaababbaaaabbbbbbaabbabaabbbababaaaabaaabbbaabbaabaabababaababbaabbaabbaabbbbabababbaabaaabbbabaaaaaaabaabababbbbabaaabaabbbbbbabaaabbbbbbaabbbabaaaabbaabbbbbbbbbbbabbbaaabbababbbbaabbbaaaaaaaaababaaaabbbaabababbaababaabbabaaabbaaabbabbbbabababaababaababbaababbbaaabbaaababbaabbabaababbbbbbbabbabaaaaabbbaaaabbabbbaabbababbbbababbaaaabbbaabbaaaabaaabaaaababbababababbbbbbbbbbaaaaabbababbaabaababbaaabababaabbbaababbbbaaabbbbbaaaaaabbbbbaaabaabbbbbbaababbbaabbbababbaaabbbbbbabaabbbbaababbbaabaaaabbbaabbabbaaaababbbaabbaaaabbbababaabbaababababaaabaaaabbbbbbaabaabbaaaaabbbbbababaaabaabaaabaabbbbbbbaabbbbbbbbabaaaaaababaaaaabaabaaabbbbbbabbbabbbbaaabbabbbbbaaaabbaaabaaabaababbabbaaabbbabaababbbbbbbbaabbaababaabbabbaaaabaaaabababbbbababaabbbbbaaaabbababaaabbbbbbbbbbababbaaaaababbabbaaaaabaaababbaabaabbaaaabbababbbaababababaabababbbbabababbbabaaabaaaaabaaababbabbbaaabbbbbbabbababaaaababbbbabbababbaabbbababbaabaabbabbbaabbaabbabbbaaaabbbbabbbbbbbbabbbaabaaaaabbbaaabbbabaabaaaaaaaaaabbbbaaababaababbabaababbbabbbaaaaababbabbbbaaaababbabababababbbbabbabbababbababbbabaaabbbbbaabaaaababaaaaabbbabbbbbabbaabbbbbabbaaaababbbbababbbbabbabbababbbbabbaabaabbaaababbabbaaaabbbabbaabaaaaaaabaabbbababbbbbbbbabbaaabaaababbaabbbbabbaabaabbbbbaaaaaaabbbbbbaababbbbbababaaabbabbbbbbbaabbbbbbbbabababbabbaababbabbbbaababaabbbabababbabaaabbbabbbbabbaaabaabbbbbaaaababbaaaaabbbaababbabbabbaabaaabaaaaabbbaaabbaabbabaaaaababbabbbababbbaababbaabbaaabaaaababaaaaabbbbbbbaabbbbaaaabbbbbaababaaaabaabbbbabbbbbbbabbabbbaaaababbbbaaaabbabaababaabbbaaaaaabaabbbaaabaaaabaabaabaababbbbabbbabbaababbbabbbaabababaaabbbaaabbababbbaabaabbbbbaabbaababbbabababaabbbabbabbbbaaaaaaaababbaabbaabbaabaaabaababaababbbbbaabbbaaaaabaaababbbbbaaabababababababaaaaabaaaaabbaabaaabbabaaababbabbabaabbababaababbabbbbbabaaababbbbaabbbababbababbababbaabbbbabaabaaaaaabbaaabbbaaaabbababababbbbbbabbababaabbbaababababbabaaabaabbbbbbabaaaababaabbabbbbabaababbbaabababababbbaaabbabbaaabaaababbaabaaaabbbbbbbbabbaaababbbbbaabbabbbaabaababbabbaaabaaaaababbabbabaabababbbaaabbabbbbaaabbaabaaabbabbbaabaaababbbaabababaabaabbababbabaabbbbbaabbbbaababbaabababbbaaaabaabbabbabbbaabbabbbbaaaaaababbaabbbabbbbaaabbbabaabaabbababbbaababaabbaabbaabbabbbbaababbbabbbaaabaabaaabaabbbbaaababbbbbababaababaaaabaaaaabbbabbababaaaaabbbaabbabbaaabbababaaabbbbbbabbbbbabbabaaaaabaabababbbbbabaaabababbaabbbbaaaabaaabbbababbabaaaabaabbaaaababaabbbaaaaababbbaabaababbbabbbabaabaaaaaaaaabbaababaaababaababaaaabaababbbababbaaaaabaabbbababbaabaababaaaaaaaabababbbbaaababbaaababbbbaaabbbaabaaaabaababaaaababbbbbbaaaabbaaaaaabababbbbaabbbabbbabbabbbaababaabbaaabbabbaaaaababaaaaaabbbaaaaababbabababaabbbababbaabbabbbbbaaabababbaabaabaaabbbbabaaaaaaaaabbababbaababaaabbbbbabaaaaaabaaabbaaaabaaabaaaaabaabbaabbababbaaaaabbababbbaabaabbaaabbbabbaabbbbbabababbaabaabbbabbababbabbabaaababbaaaababbbbaabaaabaabaababbbaabbbabaaababaabbbbbaaabababaabaabbbabbabbaaaaaaaabaababbbbbaaababbabaabaaabbbabababbababbababaaaaaaabbbbaababbbaabaaababaaabaabaaababbaaabbbabaaaaabbbbbbbaabbbaaabbaaaababaaaabbbabbbbbbaababbaabababbbbbaabbaabbbbbaabbaabbababaabaabaaababbaaaaababbaabbaabbabbaabbabababaaabbbbbbbaabbbaaabaaabababbababbbbbababaaaaabbabaaaaabbbbbaaabbbaabbbbaabbaaabbabbababaaabbababbaaaababaaabbaaaababababbaabbbaaaaaaaabbababaaabaaabaaabbbbabaaabababbbbbabbbaabababbababababaabbaababbbaaabbbaabaaaaaababaabbabaababaaabaabbbbaaabbabaaaababaabbbbaaabbbabbaabbabbbaabbbbbaabbbaabbaaababbbaaaabbaabaabbaabbaababbaaaabbaababaabbaababababbabbbbbbaabaabbbbaaaabbabbbabbbbaabaaaabaaaabababaaaabaaabaabababbbbbabbaabababbabbbbaabaaaaaabbbaaabbbbbbababbbbbbbbaabbbbbabbbbaaaabbabbbbbaabaabbbaabbbbbbbaabbabaabababaababaaabbbaabbabaaababbabbabbabbabbaabbbababababbaabbabaabbabaabaabaabbaababbbaaaabbaaaaaababaaaaaaabbaabbabbbbbaabbaaabbbabaaaababbaaabbbbaabbabbabbbbabbbaaababbabbbababbbaaaababbbbbabbaabababbababbbabaabaabbaaaaabbabaaabbababbaababbbabbbaaabaababbaaaababbbbbbbaababababaaabbaaabaaabbbaaaaaabbbaaaabaaaaabbbbababbbabbbababaaabbbabaaabbbbaabbaabbabaaabababababaabaabbbbaaaababbaabbaaababbabbaabbbbbababaabbabbaaabbaaaaaaaaaaaaaaabaaaaabbaabbaaaababaaaabbaaababababaaaaaaaabbababbbbbbbababbbbabbabbbbabaabbabababaababbabaabbbbbbaaaabbaaabbbabaaababbaaaabaaaaaaabbbaababbbbbabbabbbabbbaaaabbbaaabbabbbabaaabbbbaaaabaabbabaaabaaabaabbabbaabbbaabaabaaabaabbbbababbbabbbbababbbaababaaabbbbaabbbabbaabaabbabbbababaabbbbaabababbababababbbabbbabbbabbaaababaaaaaaababaaabaaabababaaabbabaaabbaabbabbbbaaabbaabaaabaaaaabaaaaaabaababaaabaaaabababababaabbaababaabbaaababbabbbbaaabbaabbaaaaabbaabbbababbaababababbbbabbbbbabbbbaabaaaabaabaabbbbabbbbabbabaabaababaaabbbaababaaaabbaaabbabbaabbaababbaaaaaaaabbabaabbbaaaaaabababbababbbaabaabaaaaaaababbabbbbbbbbbbaabaababbaaababbbbbababbbbbbbbbaabbabaabbaaaabababbbabbbbbababaaaabababaabbbbabbbbaabaaaabbbbbbbbbabaaabaaaaababbaabbbbaabbbbaabbbbbaaaaabbbbaaaabbbbabbbaaabbbaaaaabbabbabaaaaabbbbabbaababbaabbbbbaaabaabaabababbbbbaabbabbbbaaaaaabbabbbbbbababbabbbbabaaaaaaaaaababbabbababbbabaaaababaabaaaabbabaabbabaaaaaabaaabbabaaabababaaabbabaaabbbababbbababbbabbaabbabbbbaaaaaababbaabaaaabababbaabbabbbabbabbabaabbbabbaababaaabaabbaabbbaabbabbaabaaabbbabbabbaabbaabaabbababbaaabbabaaaababbbbababbaaabaababbbbbabbbaaaaabbabbbabbaaabbbbaababaabaabababbababaaabbabbbbaaaabbbbaabaabababaabaabbabbababbbbbbbabaaaabbbabaabababbaababababaabbabbbbbbbaaabaabababbabbaabbbabbabababbaaababababbbbbbbbabbbbabbbbbbbabbababbaaaaababababbbbaaabaababbaabbabaabbababbabbbbaaababaabaababababbaabbbbaabbaaaaabababaaababbaabbaabbaaaaabbbbbababaaaabbbbaabaaaaabbbbbaaaaabaaaabbaaaaaababaaababaaabbababaaabbbbaaabaabaabaaababbaabbaaaabbbbbaabbbaaabbbaabaaabaabbbaabaababaabbaaaabababbbabbbbaaaabbbaabbaaaabbbbaababbabbbaaaabaaaaaabbbbaababbaabbaaaabaaaaabaabbaabbbaabbaabaaabbaaabbbbabaabbbaabaabbbaabbbaaaabaaabaaaaabaabbaababbbaabbaaaabaababababaababaaaaaabaaabbabbbbaaaaabbbabbbababaababababaaabbbaababaabbabaaaaaababbbbbbaabaabbaababbbabbbbbabbbbbaaabbbabbabbbbbabbbaabbbabbabbaaabbbabbabababbbabaabbbbbbbaaabaaaababbaaaababaaabbbbbbbbbabbabbaaabbaabaabaabbbbbabaaabbaabbaababaaaabbabbaabbaabbbbbbbaabbaabbaababaaaaaabbaabbbbbaababbababbbabaaaaabbaabbbbbabbaabbbbaabbabbaaaabbaaaabbaaabbabaabbbaababaaaaabaaaabbababbbaabababbbaaababaaaababbabaaaaaaaabbaabbbaaaaabbabbabbbabbbbbbbaaaaababbbbaababaaabbbabababaaaaababaaabbbbbabbaaaaabaabbaabbbaababaabbabaaaabbbbbbabbbabbabbbabaaabaabbaaabbaaaaabaaaabbaaaababaaaabaaaaababaaaaaabbbabbabbbbbbbbbbabaaabaaababaabbaaabaabaaaabbbababaaabbababbabbaababababbaaabbabaabbaaabaabbaaaabbbaaaaaaaaabbbbaaaaabbaaaaabbaababbaabaabbbabbbaababbbabbabbbabbbaabbbabaabbbbbbaabbaababbaaaabbbaaaaabbbabaaabbbbbbbababbabbbaaabaaaabaabbaaaababbabbaaaabbbbaaabbaaababaaaababababaaaaaabbaaabaaabababbababbaaabaabbaaababaaaaababbababbaaaaababbbabbbaabbbbababbbabababaabbbbbbbaaaabbaabbabbaaabbbaaaabaabbabababbabaabbbbbbaabbbbbbaaaaababbaaaaabaabbaaababbabbababbabbababbbaababaabbabbaaaabaaabababbbaaababaabaababbabaaababbabbaabaaabbbabbaababbbbaaaaaaababaaaaabababbabbbabababbbbbaaaaaaabaabbbababbbbbabbaabbbbbababbababbaaaabababbbbbbaabbabaaaaaaabbbaaaaaaabaaaaabbbbabbbaabababaabbbabbbbaabbaaaababaabbababbaaaabbbbbbbbbaababbababbaabbabaaaabbbbbabbabbaabbababaaabbbbabaabbbabbaaaababaabaaabaabbbaaaaaabaaaababbbaababaaabaabbabbababababbabbbbaabbabbaaaaaaaabbaaabaaababbaababaaaabababbaabbaababaabbbaababbaabbaaabbbabbbaabaababaabbaabaaababaaababbbaaaaaabbbbbaaabbabbaabbaaababbaabbabbbabbbbaaababa']"
            ]
          },
          "execution_count": 44,
          "metadata": {},
          "output_type": "execute_result"
        }
      ],
      "source": [
        "listString"
      ]
    },
    {
      "cell_type": "code",
      "execution_count": 45,
      "metadata": {
        "colab": {
          "base_uri": "https://localhost:8080/"
        },
        "id": "mXzsWRvWpxd2",
        "outputId": "20a7916e-c082-4355-c40f-223b027ffbc5"
      },
      "outputs": [
        {
          "name": "stdout",
          "output_type": "stream",
          "text": [
            "Total waktu untuk berbagai input menggunakan pendekatan Dynamic Programming: \n",
            "Waktu eksekusi Panjang String 10: 0.0 dengan hasil True\n",
            "Waktu eksekusi Panjang String 20: 0.0 dengan hasil True\n",
            "Waktu eksekusi Panjang String 40: 0.001035451889038086 dengan hasil True\n",
            "Waktu eksekusi Panjang String 80: 0.0010645389556884766 dengan hasil False\n",
            "Waktu eksekusi Panjang String 160: 0.0016028881072998047 dengan hasil False\n",
            "Waktu eksekusi Panjang String 320: 0.0032396316528320312 dengan hasil False\n",
            "Waktu eksekusi Panjang String 640: 0.008488178253173828 dengan hasil False\n",
            "Waktu eksekusi Panjang String 1280: 0.015857696533203125 dengan hasil False\n",
            "Waktu eksekusi Panjang String 2560: 0.08840441703796387 dengan hasil False\n",
            "Waktu eksekusi Panjang String 5120: 0.05089449882507324 dengan hasil False\n",
            "Waktu eksekusi Panjang String 10240: 0.10929393768310547 dengan hasil False\n",
            "\n",
            "Total waktu untuk berbagai input menggunakan pendekatan Backtracking: \n",
            "Waktu eksekusi Panjang String 10: 0.0 dengan hasil True\n",
            "Waktu eksekusi Panjang String 20: 0.0 dengan hasil True\n",
            "Waktu eksekusi Panjang String 40: 0.1248931884765625 dengan hasil True\n",
            "Waktu eksekusi Panjang String 80: 0.23522424697875977 dengan hasil False\n",
            "Waktu eksekusi Panjang String 160: 0.6071357727050781 dengan hasil False\n",
            "Waktu eksekusi Panjang String 320: 0.8800678253173828 dengan hasil False\n",
            "Waktu eksekusi Panjang String 640: 1.3895792961120605 dengan hasil False\n",
            "Waktu eksekusi Panjang String 1280: 0.08384060859680176 dengan hasil False\n",
            "Waktu eksekusi Panjang String 2560: 0.5847897529602051 dengan hasil False\n",
            "Waktu eksekusi Panjang String 5120: 1.2483327388763428 dengan hasil False\n",
            "Waktu eksekusi Panjang String 10240: 0.3896653652191162 dengan hasil False\n"
          ]
        }
      ],
      "source": [
        "timeDP=[]\n",
        "timeBT=[]\n",
        "\n",
        "print(\"Total waktu untuk berbagai input menggunakan pendekatan Dynamic Programming: \")\n",
        "for string in listString:\n",
        "  startTime = time.time()\n",
        "  temp = isMatchDP(string, pattern)\n",
        "  totaltime = time.time() - startTime\n",
        "  timeDP.append(totaltime)\n",
        "  print(f'Waktu eksekusi Panjang String {len(string)}: {totaltime} dengan hasil {temp}')\n",
        "\n",
        "print(\"\\nTotal waktu untuk berbagai input menggunakan pendekatan Backtracking: \")\n",
        "for string in listString:\n",
        "  startTime = time.time()\n",
        "  temp = isMatchBacktracking(string, pattern)\n",
        "  totaltime = time.time() - startTime\n",
        "  timeBT.append(totaltime)\n",
        "  print(f'Waktu eksekusi Panjang String {len(string)}: {totaltime} dengan hasil {temp}')"
      ]
    },
    {
      "cell_type": "code",
      "execution_count": 48,
      "metadata": {
        "colab": {
          "base_uri": "https://localhost:8080/",
          "height": 450
        },
        "id": "r8JAQNLSq4Ur",
        "outputId": "94778aba-68ee-41ef-e1c5-044b31048814"
      },
      "outputs": [
        {
          "data": {
            "image/png": "[encoded data removed]",
            "text/plain": [
              "<Figure size 640x480 with 1 Axes>"
            ]
          },
          "metadata": {},
          "output_type": "display_data"
        }
      ],
      "source": [
        "plt.plot(listLength, timeDP, 'o-', color='r', label='Dynamic Programming')\n",
        "plt.plot(listLength, timeBT, 'o-', color='g', label='BackTracking')\n",
        "plt.xlabel(\"Panjang String\")\n",
        "plt.ylabel(\"Waktu Eksekusi\")\n",
        "plt.legend(loc=\"best\")\n",
        "plt.show()"
      ]
    },
    {
      "cell_type": "code",
      "execution_count": 52,
      "metadata": {},
      "outputs": [
        {
          "data": {
            "text/html": [
              "<div>\n",
              "<style scoped>\n",
              "    .dataframe tbody tr th:only-of-type {\n",
              "        vertical-align: middle;\n",
              "    }\n",
              "\n",
              "    .dataframe tbody tr th {\n",
              "        vertical-align: top;\n",
              "    }\n",
              "\n",
              "    .dataframe thead th {\n",
              "        text-align: right;\n",
              "    }\n",
              "</style>\n",
              "<table border=\"1\" class=\"dataframe\">\n",
              "  <thead>\n",
              "    <tr style=\"text-align: right;\">\n",
              "      <th>List Length</th>\n",
              "      <th>10.0</th>\n",
              "      <th>20.0</th>\n",
              "      <th>40.0</th>\n",
              "      <th>80.0</th>\n",
              "      <th>160.0</th>\n",
              "      <th>320.0</th>\n",
              "      <th>640.0</th>\n",
              "      <th>1280.0</th>\n",
              "      <th>2560.0</th>\n",
              "      <th>5120.0</th>\n",
              "      <th>10240.0</th>\n",
              "    </tr>\n",
              "  </thead>\n",
              "  <tbody>\n",
              "    <tr>\n",
              "      <th>Dynamic Programming</th>\n",
              "      <td>0.0</td>\n",
              "      <td>0.0</td>\n",
              "      <td>0.001035</td>\n",
              "      <td>0.001065</td>\n",
              "      <td>0.001603</td>\n",
              "      <td>0.003240</td>\n",
              "      <td>0.008488</td>\n",
              "      <td>0.015858</td>\n",
              "      <td>0.088404</td>\n",
              "      <td>0.050894</td>\n",
              "      <td>0.109294</td>\n",
              "    </tr>\n",
              "    <tr>\n",
              "      <th>Backtracking</th>\n",
              "      <td>0.0</td>\n",
              "      <td>0.0</td>\n",
              "      <td>0.124893</td>\n",
              "      <td>0.235224</td>\n",
              "      <td>0.607136</td>\n",
              "      <td>0.880068</td>\n",
              "      <td>1.389579</td>\n",
              "      <td>0.083841</td>\n",
              "      <td>0.584790</td>\n",
              "      <td>1.248333</td>\n",
              "      <td>0.389665</td>\n",
              "    </tr>\n",
              "  </tbody>\n",
              "</table>\n",
              "</div>"
            ],
            "text/plain": [
              "List Length          10.0     20.0      40.0      80.0      160.0     320.0    \\\n",
              "Dynamic Programming      0.0      0.0  0.001035  0.001065  0.001603  0.003240   \n",
              "Backtracking             0.0      0.0  0.124893  0.235224  0.607136  0.880068   \n",
              "\n",
              "List Length           640.0     1280.0    2560.0    5120.0    10240.0  \n",
              "Dynamic Programming  0.008488  0.015858  0.088404  0.050894  0.109294  \n",
              "Backtracking         1.389579  0.083841  0.584790  1.248333  0.389665  "
            ]
          },
          "execution_count": 52,
          "metadata": {},
          "output_type": "execute_result"
        }
      ],
      "source": [
        "data = {\n",
        "    \"List Length\": listLength,\n",
        "    \"Dynamic Programming\": timeDP,\n",
        "    \"Backtracking\": timeBT\n",
        "}\n",
        "df = pd.DataFrame(data).transpose()\n",
        "df.columns = df.iloc[0]\n",
        "df = df[1:]\n",
        "df\n"
      ]
    },
    {
      "cell_type": "code",
      "execution_count": null,
      "metadata": {},
      "outputs": [],
      "source": []
    }
  ],
  "metadata": {
    "colab": {
      "provenance": []
    },
    "kernelspec": {
      "display_name": "Python 3",
      "name": "python3"
    },
    "language_info": {
      "codemirror_mode": {
        "name": "ipython",
        "version": 3
      },
      "file_extension": ".py",
      "mimetype": "text/x-python",
      "name": "python",
      "nbconvert_exporter": "python",
      "pygments_lexer": "ipython3",
      "version": "3.12.1"
    }
  },
  "nbformat": 4,
  "nbformat_minor": 0
}
